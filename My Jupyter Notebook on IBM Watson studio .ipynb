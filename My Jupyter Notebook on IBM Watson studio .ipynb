{
    "cells": [
        {
            "metadata": {
                "collapsed": true
            },
            "cell_type": "markdown",
            "source": "# My Jupyter Notebook on IBM Watson Studio"
        },
        {
            "metadata": {},
            "cell_type": "markdown",
            "source": "**Grover Javier Rivera Espinoza**\n\nData Scientist"
        },
        {
            "metadata": {},
            "cell_type": "markdown",
            "source": "*I'm interested in Data science because I like to know what data is hidding.*"
        },
        {
            "metadata": {},
            "cell_type": "markdown",
            "source": "### Future Value Formula\n\nReturns the future value of an amount of money at an specific time (months) assuming a certain interest rate (percentage). "
        },
        {
            "metadata": {},
            "cell_type": "code",
            "source": "def future_value(amount, rate, periods):\n    \n    FV = amount * ((1 + rate) ** periods)\n    \n    return FV\n\nfuture_value(1000, 0.005, 12)",
            "execution_count": 3,
            "outputs": [
                {
                    "output_type": "execute_result",
                    "execution_count": 3,
                    "data": {
                        "text/plain": "1061.6778118644984"
                    },
                    "metadata": {}
                }
            ]
        },
        {
            "metadata": {},
            "cell_type": "markdown",
            "source": "<style>\n\ntable {float:left !important}\n\n</style>\n\n\n**My information:**\n\n***\n\n![Javier Rivera](https://pbs.twimg.com/profile_images/1168908353/io_400x400.jpg)\n\n\n\n|Network |Link |\n|:---------|:------|\n|**LinkedIn**|[javier-rivera-espinoza](https://www.linkedin.com/in/javier-rivera-espinoza/)|\n|**Github**|[Javi-Rivera](https://github.com/Javi-Rivera)|\n|**Kaggle**|[javierrivera](https://www.kaggle.com/javierrivera)|\n\n***\n\n    "
        }
    ],
    "metadata": {
        "kernelspec": {
            "name": "python3",
            "display_name": "Python 3.6",
            "language": "python"
        },
        "language_info": {
            "name": "python",
            "version": "3.6.9",
            "mimetype": "text/x-python",
            "codemirror_mode": {
                "name": "ipython",
                "version": 3
            },
            "pygments_lexer": "ipython3",
            "nbconvert_exporter": "python",
            "file_extension": ".py"
        }
    },
    "nbformat": 4,
    "nbformat_minor": 1
}